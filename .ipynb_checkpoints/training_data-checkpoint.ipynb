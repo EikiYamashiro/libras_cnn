{
 "cells": [
  {
   "cell_type": "code",
   "execution_count": 1,
   "metadata": {},
   "outputs": [],
   "source": [
    "import pickle\n",
    "import matplotlib.pyplot as plt\n",
    "from tensorflow.keras.models import Sequential\n",
    "from tensorflow.keras.layers import GlobalAveragePooling2D, Dropout, Dense, Conv2D, Flatten, MaxPooling2D, Activation\n",
    "from tensorflow.keras.models import Sequential\n",
    "from tensorflow.keras.callbacks import TensorBoard\n",
    "import tensorflow as tf"
   ]
  },
  {
   "cell_type": "code",
   "execution_count": 2,
   "metadata": {},
   "outputs": [],
   "source": [
    "pickle_in = open(\"X_train.pickle\", \"rb\")\n",
    "X = pickle.load(pickle_in)\n",
    "X = X\n",
    "\n",
    "pickle_in = open(\"Y_train.pickle\", \"rb\")\n",
    "y = pickle.load(pickle_in)"
   ]
  },
  {
   "cell_type": "code",
   "execution_count": 3,
   "metadata": {},
   "outputs": [
    {
     "name": "stdout",
     "output_type": "stream",
     "text": [
      "WARNING:tensorflow:From <ipython-input-3-17bb7203622b>:1: is_gpu_available (from tensorflow.python.framework.test_util) is deprecated and will be removed in a future version.\n",
      "Instructions for updating:\n",
      "Use `tf.config.list_physical_devices('GPU')` instead.\n"
     ]
    },
    {
     "data": {
      "text/plain": [
       "True"
      ]
     },
     "execution_count": 3,
     "metadata": {},
     "output_type": "execute_result"
    }
   ],
   "source": [
    "tf.test.is_gpu_available()"
   ]
  },
  {
   "cell_type": "code",
   "execution_count": 4,
   "metadata": {},
   "outputs": [],
   "source": [
    "INPUT_SHAPE = X[0].shape"
   ]
  },
  {
   "cell_type": "code",
   "execution_count": 10,
   "metadata": {},
   "outputs": [],
   "source": [
    "model = Sequential()\n",
    "\n",
    "model.add(Conv2D(64, (3,3), input_shape = INPUT_SHAPE, activation = 'relu', padding=\"same\"))\n",
    "model.add(MaxPooling2D(pool_size=(2,2)))\n",
    "\n",
    "model.add(Conv2D(128, (3,3), activation = 'relu', padding=\"same\"))\n",
    "model.add(MaxPooling2D(pool_size=(2,2)))\n",
    "\n",
    "model.add(Flatten())\n",
    "\n",
    "model.add(Dense(256))\n",
    "\n",
    "model.add(Dense(21))\n",
    "model.add(Activation(\"sigmoid\"))\n",
    "\n",
    "model.compile(loss = \"sparse_categorical_crossentropy\",\n",
    "              optimizer = \"adam\",\n",
    "              metrics = ['accuracy'])"
   ]
  },
  {
   "cell_type": "code",
   "execution_count": 11,
   "metadata": {},
   "outputs": [
    {
     "name": "stdout",
     "output_type": "stream",
     "text": [
      "Model: \"sequential_1\"\n",
      "_________________________________________________________________\n",
      " Layer (type)                Output Shape              Param #   \n",
      "=================================================================\n",
      " conv2d_2 (Conv2D)           (None, 64, 64, 64)        1792      \n",
      "                                                                 \n",
      " max_pooling2d_2 (MaxPooling  (None, 32, 32, 64)       0         \n",
      " 2D)                                                             \n",
      "                                                                 \n",
      " conv2d_3 (Conv2D)           (None, 32, 32, 128)       73856     \n",
      "                                                                 \n",
      " max_pooling2d_3 (MaxPooling  (None, 16, 16, 128)      0         \n",
      " 2D)                                                             \n",
      "                                                                 \n",
      " flatten_1 (Flatten)         (None, 32768)             0         \n",
      "                                                                 \n",
      " dense_2 (Dense)             (None, 256)               8388864   \n",
      "                                                                 \n",
      " dense_3 (Dense)             (None, 21)                5397      \n",
      "                                                                 \n",
      " activation_1 (Activation)   (None, 21)                0         \n",
      "                                                                 \n",
      "=================================================================\n",
      "Total params: 8,469,909\n",
      "Trainable params: 8,469,909\n",
      "Non-trainable params: 0\n",
      "_________________________________________________________________\n"
     ]
    }
   ],
   "source": [
    "model.summary()"
   ]
  },
  {
   "cell_type": "code",
   "execution_count": 12,
   "metadata": {},
   "outputs": [
    {
     "name": "stdout",
     "output_type": "stream",
     "text": [
      "Epoch 1/15\n",
      "1302/1302 [==============================] - 41s 24ms/step - loss: 6.0097 - accuracy: 0.8173\n",
      "Epoch 2/15\n",
      "1302/1302 [==============================] - 31s 24ms/step - loss: 0.3225 - accuracy: 0.9182\n",
      "Epoch 3/15\n",
      "1302/1302 [==============================] - 31s 23ms/step - loss: 0.2082 - accuracy: 0.9445\n",
      "Epoch 4/15\n",
      "1302/1302 [==============================] - 30s 23ms/step - loss: 0.3068 - accuracy: 0.9175\n",
      "Epoch 5/15\n",
      "1302/1302 [==============================] - 30s 23ms/step - loss: 1.3355 - accuracy: 0.6142\n",
      "Epoch 6/15\n",
      "1302/1302 [==============================] - 30s 23ms/step - loss: 0.4675 - accuracy: 0.8740\n",
      "Epoch 7/15\n",
      "1302/1302 [==============================] - 30s 23ms/step - loss: 0.1467 - accuracy: 0.9602\n",
      "Epoch 8/15\n",
      "1302/1302 [==============================] - 30s 23ms/step - loss: 0.1109 - accuracy: 0.9683\n",
      "Epoch 9/15\n",
      "1302/1302 [==============================] - 30s 23ms/step - loss: 0.1322 - accuracy: 0.9651\n",
      "Epoch 10/15\n",
      "1302/1302 [==============================] - 30s 23ms/step - loss: 0.1002 - accuracy: 0.9732\n",
      "Epoch 11/15\n",
      "1302/1302 [==============================] - 30s 23ms/step - loss: 0.4355 - accuracy: 0.8851\n",
      "Epoch 12/15\n",
      "1302/1302 [==============================] - 30s 23ms/step - loss: 0.3593 - accuracy: 0.9058\n",
      "Epoch 13/15\n",
      "1302/1302 [==============================] - 30s 23ms/step - loss: 0.1880 - accuracy: 0.9490\n",
      "Epoch 14/15\n",
      "1302/1302 [==============================] - 30s 23ms/step - loss: 0.1339 - accuracy: 0.9627\n",
      "Epoch 15/15\n",
      "1302/1302 [==============================] - 30s 23ms/step - loss: 0.1309 - accuracy: 0.9645\n",
      "INFO:tensorflow:Assets written to: first_model.model\\assets\n"
     ]
    }
   ],
   "source": [
    "history = model.fit(X, y, batch_size=32, epochs=15)\n",
    "model.save(\"first_model.model\")"
   ]
  },
  {
   "cell_type": "code",
   "execution_count": 13,
   "metadata": {},
   "outputs": [
    {
     "data": {
      "image/png": "[encoded data removed]",
      "text/plain": [
       "<Figure size 432x288 with 1 Axes>"
      ]
     },
     "metadata": {},
     "output_type": "display_data"
    }
   ],
   "source": [
    "import matplotlib.pyplot as plt\n",
    "plt.style.use('ggplot')\n",
    "plt.plot(history.history['accuracy'], 'orange', label=\"training loss\")\n",
    "plt.xlabel(\"Epochs\")\n",
    "plt.title(\"Accuracy\")\n",
    "plt.show()"
   ]
  },
  {
   "cell_type": "code",
   "execution_count": null,
   "metadata": {},
   "outputs": [],
   "source": [
    "# callback tensorboard\n",
    "# train, test, validation\n",
    "# data augmentation\n",
    "\n",
    "# Próximos passos: mobilenet + model"
   ]
  }
 ],
 "metadata": {
  "kernelspec": {
   "display_name": "Python 3",
   "language": "python",
   "name": "python3"
  },
  "language_info": {
   "codemirror_mode": {
    "name": "ipython",
    "version": 3
   },
   "file_extension": ".py",
   "mimetype": "text/x-python",
   "name": "python",
   "nbconvert_exporter": "python",
   "pygments_lexer": "ipython3",
   "version": "3.7.6"
  }
 },
 "nbformat": 4,
 "nbformat_minor": 4
}
