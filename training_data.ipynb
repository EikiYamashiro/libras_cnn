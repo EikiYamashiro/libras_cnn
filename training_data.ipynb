{
 "cells": [
  {
   "cell_type": "code",
   "execution_count": null,
   "metadata": {},
   "outputs": [],
   "source": [
    "import pickle\n",
    "import matplotlib.pyplot as plt\n",
    "from tensorflow.keras.models import Sequential\n",
    "from tensorflow.keras.layers import GlobalAveragePooling2D, Dropout, Dense, Conv2D, Flatten, MaxPooling2D, Activation, RandomFlip, RandomRotation\n",
    "from tensorflow.keras.models import Sequential\n",
    "from tensorflow.keras.callbacks import TensorBoard\n",
    "import tensorflow as tf"
   ]
  },
  {
   "cell_type": "code",
   "execution_count": 3,
   "metadata": {},
   "outputs": [
    {
     "data": {
      "text/plain": [
       "'2.7.0'"
      ]
     },
     "execution_count": 3,
     "metadata": {},
     "output_type": "execute_result"
    }
   ],
   "source": [
    "tf.__version__"
   ]
  },
  {
   "cell_type": "code",
   "execution_count": 5,
   "metadata": {},
   "outputs": [],
   "source": [
    "pickle_in = open(\"X_train.pickle\", \"rb\")\n",
    "X = pickle.load(pickle_in)\n",
    "X = X\n",
    "\n",
    "pickle_in = open(\"Y_train.pickle\", \"rb\")\n",
    "y = pickle.load(pickle_in)"
   ]
  },
  {
   "cell_type": "code",
   "execution_count": 6,
   "metadata": {},
   "outputs": [
    {
     "name": "stdout",
     "output_type": "stream",
     "text": [
      "WARNING:tensorflow:From <ipython-input-6-17bb7203622b>:1: is_gpu_available (from tensorflow.python.framework.test_util) is deprecated and will be removed in a future version.\n",
      "Instructions for updating:\n",
      "Use `tf.config.list_physical_devices('GPU')` instead.\n"
     ]
    },
    {
     "data": {
      "text/plain": [
       "True"
      ]
     },
     "execution_count": 6,
     "metadata": {},
     "output_type": "execute_result"
    }
   ],
   "source": [
    "tf.test.is_gpu_available()"
   ]
  },
  {
   "cell_type": "code",
   "execution_count": 7,
   "metadata": {},
   "outputs": [],
   "source": [
    "INPUT_SHAPE = X[0].shape"
   ]
  },
  {
   "cell_type": "code",
   "execution_count": 8,
   "metadata": {},
   "outputs": [],
   "source": [
    "model = Sequential()\n",
    "\n",
    "model.add(Conv2D(64, (3,3), input_shape = INPUT_SHAPE, activation = 'relu', padding=\"same\"))\n",
    "model.add(MaxPooling2D(pool_size=(2,2)))\n",
    "\n",
    "model.add(Conv2D(128, (3,3), activation = 'relu', padding=\"same\"))\n",
    "model.add(MaxPooling2D(pool_size=(2,2)))\n",
    "\n",
    "model.add(Flatten())\n",
    "\n",
    "model.add(Dense(256))\n",
    "\n",
    "model.add(Dense(21, activation = \"softmax\"))\n",
    "\n",
    "model.compile(loss = \"sparse_categorical_crossentropy\",\n",
    "              optimizer = \"adam\",\n",
    "              metrics = ['accuracy'])"
   ]
  },
  {
   "cell_type": "code",
   "execution_count": 9,
   "metadata": {},
   "outputs": [
    {
     "name": "stdout",
     "output_type": "stream",
     "text": [
      "Model: \"sequential\"\n",
      "_________________________________________________________________\n",
      " Layer (type)                Output Shape              Param #   \n",
      "=================================================================\n",
      " conv2d (Conv2D)             (None, 64, 64, 64)        1792      \n",
      "                                                                 \n",
      " max_pooling2d (MaxPooling2D  (None, 32, 32, 64)       0         \n",
      " )                                                               \n",
      "                                                                 \n",
      " conv2d_1 (Conv2D)           (None, 32, 32, 128)       73856     \n",
      "                                                                 \n",
      " max_pooling2d_1 (MaxPooling  (None, 16, 16, 128)      0         \n",
      " 2D)                                                             \n",
      "                                                                 \n",
      " flatten (Flatten)           (None, 32768)             0         \n",
      "                                                                 \n",
      " dense (Dense)               (None, 256)               8388864   \n",
      "                                                                 \n",
      " dense_1 (Dense)             (None, 21)                5397      \n",
      "                                                                 \n",
      "=================================================================\n",
      "Total params: 8,469,909\n",
      "Trainable params: 8,469,909\n",
      "Non-trainable params: 0\n",
      "_________________________________________________________________\n"
     ]
    }
   ],
   "source": [
    "model.summary()"
   ]
  },
  {
   "cell_type": "code",
   "execution_count": 46,
   "metadata": {},
   "outputs": [],
   "source": [
    "#history = model2.fit(X, y, batch_size=64, epochs=15, validation_split = 0.2)\n",
    "#model2.save(\"data_augmentation_model.model\")"
   ]
  },
  {
   "cell_type": "code",
   "execution_count": 10,
   "metadata": {
    "scrolled": false
   },
   "outputs": [
    {
     "name": "stdout",
     "output_type": "stream",
     "text": [
      "Epoch 1/15\n",
      "521/521 [==============================] - 37s 54ms/step - loss: 10.5692 - accuracy: 0.7523 - val_loss: 0.5717 - val_accuracy: 0.8519\n",
      "Epoch 2/15\n",
      "521/521 [==============================] - 28s 54ms/step - loss: 0.5682 - accuracy: 0.8510 - val_loss: 0.4669 - val_accuracy: 0.8763\n",
      "Epoch 3/15\n",
      "521/521 [==============================] - 28s 54ms/step - loss: 0.4206 - accuracy: 0.8895 - val_loss: 0.3831 - val_accuracy: 0.9042\n",
      "Epoch 4/15\n",
      "521/521 [==============================] - 28s 54ms/step - loss: 0.3254 - accuracy: 0.9157 - val_loss: 0.4200 - val_accuracy: 0.8907\n",
      "Epoch 5/15\n",
      "521/521 [==============================] - 28s 54ms/step - loss: 0.3092 - accuracy: 0.9204 - val_loss: 0.2676 - val_accuracy: 0.9367\n",
      "Epoch 6/15\n",
      "521/521 [==============================] - 28s 55ms/step - loss: 0.2143 - accuracy: 0.9446 - val_loss: 0.3499 - val_accuracy: 0.9125\n",
      "Epoch 7/15\n",
      "521/521 [==============================] - 28s 54ms/step - loss: 0.1756 - accuracy: 0.9538 - val_loss: 0.1537 - val_accuracy: 0.9586\n",
      "Epoch 8/15\n",
      "521/521 [==============================] - 28s 54ms/step - loss: 0.1346 - accuracy: 0.9663 - val_loss: 0.1591 - val_accuracy: 0.9641\n",
      "Epoch 9/15\n",
      "521/521 [==============================] - 28s 54ms/step - loss: 0.0967 - accuracy: 0.9742 - val_loss: 0.1806 - val_accuracy: 0.9647\n",
      "Epoch 10/15\n",
      "521/521 [==============================] - 28s 54ms/step - loss: 0.1549 - accuracy: 0.9617 - val_loss: 0.1726 - val_accuracy: 0.9649\n",
      "Epoch 11/15\n",
      "521/521 [==============================] - 28s 54ms/step - loss: 0.1153 - accuracy: 0.9698 - val_loss: 0.1392 - val_accuracy: 0.9672\n",
      "Epoch 12/15\n",
      "521/521 [==============================] - 28s 54ms/step - loss: 0.0805 - accuracy: 0.9779 - val_loss: 0.2146 - val_accuracy: 0.9600\n",
      "Epoch 13/15\n",
      "521/521 [==============================] - 28s 54ms/step - loss: 0.9214 - accuracy: 0.8088 - val_loss: 0.3935 - val_accuracy: 0.9147\n",
      "Epoch 14/15\n",
      "521/521 [==============================] - 28s 54ms/step - loss: 0.2178 - accuracy: 0.9425 - val_loss: 0.1887 - val_accuracy: 0.9512\n",
      "Epoch 15/15\n",
      "521/521 [==============================] - 28s 54ms/step - loss: 0.1272 - accuracy: 0.9634 - val_loss: 0.1466 - val_accuracy: 0.9598\n",
      "INFO:tensorflow:Assets written to: first_model.model\\assets\n"
     ]
    }
   ],
   "source": [
    "history = model.fit(X, y, batch_size=64, epochs=15, validation_split = 0.2)\n",
    "model.save(\"first_model.model\")"
   ]
  },
  {
   "cell_type": "code",
   "execution_count": 11,
   "metadata": {},
   "outputs": [
    {
     "data": {
      "image/png": "[encoded data removed]",
      "text/plain": [
       "<Figure size 432x288 with 1 Axes>"
      ]
     },
     "metadata": {},
     "output_type": "display_data"
    }
   ],
   "source": [
    "import matplotlib.pyplot as plt\n",
    "plt.style.use('ggplot')\n",
    "plt.plot(history.history['accuracy'], label=\"train\")\n",
    "plt.plot(history.history['val_accuracy'], label=\"validation\")\n",
    "plt.xlabel(\"Epochs\")\n",
    "plt.legend(loc=\"lower right\")\n",
    "plt.title(\"Accuracy\")\n",
    "plt.show()"
   ]
  },
  {
   "cell_type": "code",
   "execution_count": 12,
   "metadata": {},
   "outputs": [],
   "source": [
    "first_model = tf.keras.models.load_model(\"first_model.model\")"
   ]
  },
  {
   "cell_type": "code",
   "execution_count": 3,
   "metadata": {},
   "outputs": [],
   "source": [
    "pickle_in = open(\"X_test.pickle\", \"rb\")\n",
    "X = pickle.load(pickle_in)\n",
    "X = X\n",
    "\n",
    "pickle_in = open(\"Y_test.pickle\", \"rb\")\n",
    "y = pickle.load(pickle_in)"
   ]
  },
  {
   "cell_type": "code",
   "execution_count": 13,
   "metadata": {},
   "outputs": [
    {
     "name": "stdout",
     "output_type": "stream",
     "text": [
      "1302/1302 [==============================] - 21s 16ms/step - loss: 0.1031 - accuracy: 0.9691\n"
     ]
    },
    {
     "data": {
      "text/plain": [
       "[0.1031450629234314, 0.9691365361213684]"
      ]
     },
     "execution_count": 13,
     "metadata": {},
     "output_type": "execute_result"
    }
   ],
   "source": [
    "first_model.evaluate(X, y)"
   ]
  },
  {
   "cell_type": "code",
   "execution_count": null,
   "metadata": {},
   "outputs": [],
   "source": [
    "# callback tensorboard - foi\n",
    "# train, test, validation - foi\n",
    "# data augmentation - foi\n",
    "\n",
    "# Próximos passos: webcam + model"
   ]
  }
 ],
 "metadata": {
  "kernelspec": {
   "display_name": "Python 3",
   "language": "python",
   "name": "python3"
  },
  "language_info": {
   "codemirror_mode": {
    "name": "ipython",
    "version": 3
   },
   "file_extension": ".py",
   "mimetype": "text/x-python",
   "name": "python",
   "nbconvert_exporter": "python",
   "pygments_lexer": "ipython3",
   "version": "3.8.3"
  }
 },
 "nbformat": 4,
 "nbformat_minor": 4
}
