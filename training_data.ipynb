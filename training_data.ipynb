{
 "cells": [
  {
   "cell_type": "code",
   "execution_count": 1,
   "metadata": {},
   "outputs": [],
   "source": [
    "import pickle\n",
    "import matplotlib.pyplot as plt\n",
    "from tensorflow.keras.models import Sequential\n",
    "from tensorflow.keras.layers import GlobalAveragePooling2D, Dropout, Dense, Conv2D, Flatten, MaxPooling2D, Activation\n",
    "from tensorflow.keras.models import Sequential\n",
    "from tensorflow.keras.callbacks import TensorBoard\n",
    "import tensorflow as tf\n",
    "from tensorflow.keras import layers"
   ]
  },
  {
   "cell_type": "code",
   "execution_count": 2,
   "metadata": {},
   "outputs": [
    {
     "data": {
      "text/plain": [
       "'2.7.0'"
      ]
     },
     "execution_count": 2,
     "metadata": {},
     "output_type": "execute_result"
    }
   ],
   "source": [
    "tf.__version__"
   ]
  },
  {
   "cell_type": "code",
   "execution_count": 3,
   "metadata": {},
   "outputs": [],
   "source": [
    "pickle_in = open(\"X_train_da.pickle\", \"rb\")\n",
    "X = pickle.load(pickle_in)\n",
    "X = X\n",
    "\n",
    "pickle_in = open(\"Y_train_da.pickle\", \"rb\")\n",
    "y = pickle.load(pickle_in)"
   ]
  },
  {
   "cell_type": "code",
   "execution_count": 4,
   "metadata": {},
   "outputs": [
    {
     "name": "stdout",
     "output_type": "stream",
     "text": [
      "WARNING:tensorflow:From <ipython-input-4-17bb7203622b>:1: is_gpu_available (from tensorflow.python.framework.test_util) is deprecated and will be removed in a future version.\n",
      "Instructions for updating:\n",
      "Use `tf.config.list_physical_devices('GPU')` instead.\n"
     ]
    },
    {
     "data": {
      "text/plain": [
       "True"
      ]
     },
     "execution_count": 4,
     "metadata": {},
     "output_type": "execute_result"
    }
   ],
   "source": [
    "tf.test.is_gpu_available()"
   ]
  },
  {
   "cell_type": "code",
   "execution_count": 5,
   "metadata": {},
   "outputs": [],
   "source": [
    "INPUT_SHAPE = X[0].shape"
   ]
  },
  {
   "cell_type": "code",
   "execution_count": 6,
   "metadata": {},
   "outputs": [],
   "source": [
    "model = Sequential()\n",
    "\n",
    "model.add(Conv2D(64, (3,3), input_shape = INPUT_SHAPE, activation = 'relu', padding=\"same\"))\n",
    "model.add(MaxPooling2D(pool_size=(2,2)))\n",
    "\n",
    "model.add(Conv2D(128, (3,3), activation = 'relu', padding=\"same\"))\n",
    "model.add(MaxPooling2D(pool_size=(2,2)))\n",
    "\n",
    "model.add(Flatten())\n",
    "\n",
    "model.add(Dense(256))\n",
    "\n",
    "model.add(Dense(21, activation = \"softmax\"))\n",
    "\n",
    "model.compile(loss = \"sparse_categorical_crossentropy\",\n",
    "              optimizer = \"adam\",\n",
    "              metrics = ['accuracy'])"
   ]
  },
  {
   "cell_type": "code",
   "execution_count": 7,
   "metadata": {},
   "outputs": [
    {
     "name": "stdout",
     "output_type": "stream",
     "text": [
      "Model: \"sequential\"\n",
      "_________________________________________________________________\n",
      " Layer (type)                Output Shape              Param #   \n",
      "=================================================================\n",
      " conv2d (Conv2D)             (None, 64, 64, 64)        1792      \n",
      "                                                                 \n",
      " max_pooling2d (MaxPooling2D  (None, 32, 32, 64)       0         \n",
      " )                                                               \n",
      "                                                                 \n",
      " conv2d_1 (Conv2D)           (None, 32, 32, 128)       73856     \n",
      "                                                                 \n",
      " max_pooling2d_1 (MaxPooling  (None, 16, 16, 128)      0         \n",
      " 2D)                                                             \n",
      "                                                                 \n",
      " flatten (Flatten)           (None, 32768)             0         \n",
      "                                                                 \n",
      " dense (Dense)               (None, 256)               8388864   \n",
      "                                                                 \n",
      " dense_1 (Dense)             (None, 21)                5397      \n",
      "                                                                 \n",
      "=================================================================\n",
      "Total params: 8,469,909\n",
      "Trainable params: 8,469,909\n",
      "Non-trainable params: 0\n",
      "_________________________________________________________________\n"
     ]
    }
   ],
   "source": [
    "model.summary()"
   ]
  },
  {
   "cell_type": "code",
   "execution_count": 8,
   "metadata": {
    "scrolled": true
   },
   "outputs": [
    {
     "name": "stdout",
     "output_type": "stream",
     "text": [
      "Epoch 1/10\n",
      "1562/1562 [==============================] - 132s 41ms/step - loss: 7.5261 - accuracy: 0.1810 - val_loss: 3.0400 - val_accuracy: 0.0478\n",
      "Epoch 2/10\n",
      "1562/1562 [==============================] - 63s 40ms/step - loss: 2.9671 - accuracy: 0.0857 - val_loss: 2.6968 - val_accuracy: 0.1639\n",
      "Epoch 3/10\n",
      "1562/1562 [==============================] - 62s 40ms/step - loss: 2.7976 - accuracy: 0.1577 - val_loss: 3.0371 - val_accuracy: 0.0495\n",
      "Epoch 4/10\n",
      "1562/1562 [==============================] - 66s 42ms/step - loss: 3.0313 - accuracy: 0.0537 - val_loss: 3.0378 - val_accuracy: 0.0527\n",
      "Epoch 5/10\n",
      "1562/1562 [==============================] - 62s 40ms/step - loss: 3.0345 - accuracy: 0.0515 - val_loss: 3.0370 - val_accuracy: 0.0517\n",
      "Epoch 6/10\n",
      "1562/1562 [==============================] - 66s 42ms/step - loss: 3.0353 - accuracy: 0.0502 - val_loss: 3.0373 - val_accuracy: 0.0493\n",
      "Epoch 7/10\n",
      "1562/1562 [==============================] - 67s 43ms/step - loss: 3.0352 - accuracy: 0.0510 - val_loss: 3.0369 - val_accuracy: 0.0492\n",
      "Epoch 8/10\n",
      "1562/1562 [==============================] - 67s 43ms/step - loss: 3.0350 - accuracy: 0.0514 - val_loss: 3.0367 - val_accuracy: 0.0529\n",
      "Epoch 9/10\n",
      "1562/1562 [==============================] - 68s 44ms/step - loss: 3.0851 - accuracy: 0.0495 - val_loss: 3.0457 - val_accuracy: 0.0458\n",
      "Epoch 10/10\n",
      "1562/1562 [==============================] - 69s 44ms/step - loss: 3.0451 - accuracy: 0.0483 - val_loss: 3.0454 - val_accuracy: 0.0466\n",
      "INFO:tensorflow:Assets written to: data_augmentation.model\\assets\n"
     ]
    }
   ],
   "source": [
    "history = model.fit(X, y, batch_size=64, epochs=10, validation_split = 0.2)\n",
    "model.save(\"data_augmentation.model\")"
   ]
  },
  {
   "cell_type": "code",
   "execution_count": 9,
   "metadata": {},
   "outputs": [
    {
     "data": {
      "image/png": "[encoded data removed]",
      "text/plain": [
       "<Figure size 432x288 with 1 Axes>"
      ]
     },
     "metadata": {},
     "output_type": "display_data"
    }
   ],
   "source": [
    "import matplotlib.pyplot as plt\n",
    "plt.style.use('ggplot')\n",
    "plt.plot(history.history['accuracy'], label=\"train\")\n",
    "plt.plot(history.history['val_accuracy'], label=\"validation\")\n",
    "plt.xlabel(\"Epochs\")\n",
    "plt.legend(loc=\"lower right\")\n",
    "plt.title(\"Accuracy\")\n",
    "plt.show()"
   ]
  },
  {
   "cell_type": "code",
   "execution_count": 10,
   "metadata": {},
   "outputs": [],
   "source": [
    "pickle_in = open(\"X_test_da.pickle\", \"rb\")\n",
    "X = pickle.load(pickle_in)\n",
    "X = X\n",
    "\n",
    "pickle_in = open(\"Y_test_da.pickle\", \"rb\")\n",
    "y = pickle.load(pickle_in)"
   ]
  },
  {
   "cell_type": "code",
   "execution_count": 11,
   "metadata": {},
   "outputs": [],
   "source": [
    "data_augmentation = tf.keras.models.load_model(\"data_augmentation.model\")"
   ]
  },
  {
   "cell_type": "code",
   "execution_count": 13,
   "metadata": {},
   "outputs": [
    {
     "name": "stdout",
     "output_type": "stream",
     "text": [
      "434/434 [==============================] - 8s 10ms/step - loss: 3.0454 - accuracy: 0.0517\n"
     ]
    },
    {
     "data": {
      "text/plain": [
       "[3.0453529357910156, 0.05173283442854881]"
      ]
     },
     "execution_count": 13,
     "metadata": {},
     "output_type": "execute_result"
    }
   ],
   "source": [
    "data_augmentation.evaluate(X, y)"
   ]
  },
  {
   "cell_type": "code",
   "execution_count": null,
   "metadata": {},
   "outputs": [],
   "source": [
    "# callback tensorboard\n",
    "# train, test, validation\n",
    "# data augmentation\n",
    "\n",
    "# Próximos passos: mobilenet + model"
   ]
  }
 ],
 "metadata": {
  "kernelspec": {
   "display_name": "Python 3",
   "language": "python",
   "name": "python3"
  },
  "language_info": {
   "codemirror_mode": {
    "name": "ipython",
    "version": 3
   },
   "file_extension": ".py",
   "mimetype": "text/x-python",
   "name": "python",
   "nbconvert_exporter": "python",
   "pygments_lexer": "ipython3",
   "version": "3.8.3"
  }
 },
 "nbformat": 4,
 "nbformat_minor": 4
}
